{
 "cells": [
  {
   "cell_type": "code",
   "execution_count": 4,
   "id": "1c8fda8e",
   "metadata": {},
   "outputs": [
    {
     "name": "stdout",
     "output_type": "stream",
     "text": [
      "Enter the last no of the fibonacci :50\n",
      "THE FIBONACCI ::\n",
      "0 1 1 2 3 5 8 13 21 34 "
     ]
    }
   ],
   "source": [
    "#Write a Python program to get the Fibonacci series between 0 to 50\n",
    "n1=0\n",
    "n2=1\n",
    "Ln=int(input(\"Enter the last no of the fibonacci :\"))\n",
    "print(\"THE FIBONACCI ::\")\n",
    "for i in range(n1,Ln+1) :\n",
    "    i=n1+n2\n",
    "    \n",
    "    print(n1,end=\" \")\n",
    "    n1=n2\n",
    "    n2=i\n",
    "    if n1>50 :\n",
    "        break\n"
   ]
  },
  {
   "cell_type": "code",
   "execution_count": 48,
   "id": "5f0ba56e",
   "metadata": {},
   "outputs": [
    {
     "name": "stdout",
     "output_type": "stream",
     "text": [
      "Enter any string to see it's reverse :mohit\n",
      "tihom\n"
     ]
    }
   ],
   "source": [
    "#Write a Python program that accepts a word from the user and reverse it.\n",
    "char=input(\"Enter any string to see it's reverse :\")\n",
    "count=len(char)\n",
    "rev=\"\"\n",
    "j=count-1\n",
    "for i in range(0,count):\n",
    "    rev=rev+char[j]\n",
    "    j=j-1\n",
    "print(rev)"
   ]
  },
  {
   "cell_type": "code",
   "execution_count": 51,
   "id": "2757c665",
   "metadata": {},
   "outputs": [
    {
     "name": "stdout",
     "output_type": "stream",
     "text": [
      "Enter the starting number :1\n",
      "Enter the end number :9\n",
      "1 2 3 4 5 6 7 8 9 \n",
      "Number of even number is  4\n",
      "Number of odd number is  5\n"
     ]
    }
   ],
   "source": [
    "#Write a Python program to count the number of even and odd numbers from a series of numbers.\n",
    "n1=int(input(\"Enter the starting number :\"))\n",
    "ln=int(input(\"Enter the end number :\"))\n",
    "odd=0\n",
    "even=0\n",
    "for i in range(n1,ln+1):\n",
    "    print(i,end=' ')\n",
    "    if(i%2==0):\n",
    "        even=even+1\n",
    "    else :\n",
    "        odd=odd+1\n",
    "print(\"\\nNumber of even number is \",even)\n",
    "print(\"Number of odd number is \",odd)"
   ]
  },
  {
   "cell_type": "code",
   "execution_count": null,
   "id": "69e124ea",
   "metadata": {},
   "outputs": [],
   "source": []
  }
 ],
 "metadata": {
  "kernelspec": {
   "display_name": "Python 3 (ipykernel)",
   "language": "python",
   "name": "python3"
  },
  "language_info": {
   "codemirror_mode": {
    "name": "ipython",
    "version": 3
   },
   "file_extension": ".py",
   "mimetype": "text/x-python",
   "name": "python",
   "nbconvert_exporter": "python",
   "pygments_lexer": "ipython3",
   "version": "3.9.12"
  }
 },
 "nbformat": 4,
 "nbformat_minor": 5
}
